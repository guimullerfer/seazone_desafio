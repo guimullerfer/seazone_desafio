{
  "nbformat": 4,
  "nbformat_minor": 0,
  "metadata": {
    "colab": {
      "name": "main.ipynb",
      "provenance": [],
      "authorship_tag": "ABX9TyNwieMO3ga27fdviIiD+FOb",
      "include_colab_link": true
    },
    "kernelspec": {
      "name": "python3",
      "display_name": "Python 3"
    },
    "language_info": {
      "name": "python"
    }
  },
  "cells": [
    {
      "cell_type": "markdown",
      "metadata": {
        "id": "view-in-github",
        "colab_type": "text"
      },
      "source": [
        "<a href=\"https://colab.research.google.com/github/guimullerfer/seazone_desafio/blob/main/main.ipynb\" target=\"_parent\"><img src=\"https://colab.research.google.com/assets/colab-badge.svg\" alt=\"Open In Colab\"/></a>"
      ]
    },
    {
      "cell_type": "markdown",
      "source": [
        "# Importação de bibliotecas e leitura da base dados"
      ],
      "metadata": {
        "id": "csLGdQoxyG3Q"
      }
    },
    {
      "cell_type": "code",
      "execution_count": 169,
      "metadata": {
        "id": "PxTmGSdjw4jZ"
      },
      "outputs": [],
      "source": [
        "# Importando bibliotecas\n",
        "import pandas as pd  #bibioteca responsável para o tratamento e limpeza dos dados\n",
        "import numpy as np #biblioteca utilizada para o tratamento eficiente de dados numéricos\n",
        "from datetime import datetime #biblioteca utilizada para trabalhar com datas\n",
        "from matplotlib import pyplot as plt  #plot de gráficos\n",
        "import seaborn as sns #plot de gráficos\n",
        "from collections import Counter #contador de elementos em lista\n",
        "from sklearn.preprocessing import OneHotEncoder #técnica de processamento de dados para machine learning\n",
        "import re #tratamento de expressões regulares.\n",
        "from sklearn.ensemble import RandomForestClassifier #modelo para machine learning"
      ]
    },
    {
      "cell_type": "code",
      "source": [
        "df_details = pd.read_csv(\"desafio_details.csv\")\n",
        "df_priceav = pd.read_csv(\"desafio_priceav.csv\")"
      ],
      "metadata": {
        "id": "lZcxFS3yxeD6"
      },
      "execution_count": 140,
      "outputs": []
    },
    {
      "cell_type": "markdown",
      "source": [
        "# Analisando rápida"
      ],
      "metadata": {
        "id": "mTSxah93yNQG"
      }
    },
    {
      "cell_type": "code",
      "source": [
        "df_details.head(3)"
      ],
      "metadata": {
        "colab": {
          "base_uri": "https://localhost:8080/",
          "height": 364
        },
        "id": "pL4EQ6nRxmw6",
        "outputId": "d92fc609-1df5-40a4-b971-2565e0672e48"
      },
      "execution_count": 141,
      "outputs": [
        {
          "output_type": "execute_result",
          "data": {
            "text/html": [
              "\n",
              "  <div id=\"df-2d92e97c-bc93-4526-9b01-49a711a9ed23\">\n",
              "    <div class=\"colab-df-container\">\n",
              "      <div>\n",
              "<style scoped>\n",
              "    .dataframe tbody tr th:only-of-type {\n",
              "        vertical-align: middle;\n",
              "    }\n",
              "\n",
              "    .dataframe tbody tr th {\n",
              "        vertical-align: top;\n",
              "    }\n",
              "\n",
              "    .dataframe thead th {\n",
              "        text-align: right;\n",
              "    }\n",
              "</style>\n",
              "<table border=\"1\" class=\"dataframe\">\n",
              "  <thead>\n",
              "    <tr style=\"text-align: right;\">\n",
              "      <th></th>\n",
              "      <th>Unnamed: 0</th>\n",
              "      <th>airbnb_listing_id</th>\n",
              "      <th>suburb</th>\n",
              "      <th>ad_name</th>\n",
              "      <th>number_of_bedrooms</th>\n",
              "      <th>number_of_bathrooms</th>\n",
              "      <th>star_rating</th>\n",
              "      <th>is_superhost</th>\n",
              "      <th>number_of_reviews</th>\n",
              "    </tr>\n",
              "  </thead>\n",
              "  <tbody>\n",
              "    <tr>\n",
              "      <th>0</th>\n",
              "      <td>0</td>\n",
              "      <td>31389869</td>\n",
              "      <td>Jurerê</td>\n",
              "      <td>Lindo Apartamento em Jurerê</td>\n",
              "      <td>2.0</td>\n",
              "      <td>2.0</td>\n",
              "      <td>5.0</td>\n",
              "      <td>False</td>\n",
              "      <td>15.0</td>\n",
              "    </tr>\n",
              "    <tr>\n",
              "      <th>1</th>\n",
              "      <td>1</td>\n",
              "      <td>40010667</td>\n",
              "      <td>Canasvieiras</td>\n",
              "      <td>Residencial Arruda, 1 quarto</td>\n",
              "      <td>1.0</td>\n",
              "      <td>1.0</td>\n",
              "      <td>NaN</td>\n",
              "      <td>False</td>\n",
              "      <td>0.0</td>\n",
              "    </tr>\n",
              "    <tr>\n",
              "      <th>2</th>\n",
              "      <td>2</td>\n",
              "      <td>38905997</td>\n",
              "      <td>Ingleses</td>\n",
              "      <td>Apartamento NOVO Completo - Moderno e Sofisticado</td>\n",
              "      <td>1.0</td>\n",
              "      <td>1.0</td>\n",
              "      <td>4.5</td>\n",
              "      <td>True</td>\n",
              "      <td>13.0</td>\n",
              "    </tr>\n",
              "  </tbody>\n",
              "</table>\n",
              "</div>\n",
              "      <button class=\"colab-df-convert\" onclick=\"convertToInteractive('df-2d92e97c-bc93-4526-9b01-49a711a9ed23')\"\n",
              "              title=\"Convert this dataframe to an interactive table.\"\n",
              "              style=\"display:none;\">\n",
              "        \n",
              "  <svg xmlns=\"http://www.w3.org/2000/svg\" height=\"24px\"viewBox=\"0 0 24 24\"\n",
              "       width=\"24px\">\n",
              "    <path d=\"M0 0h24v24H0V0z\" fill=\"none\"/>\n",
              "    <path d=\"M18.56 5.44l.94 2.06.94-2.06 2.06-.94-2.06-.94-.94-2.06-.94 2.06-2.06.94zm-11 1L8.5 8.5l.94-2.06 2.06-.94-2.06-.94L8.5 2.5l-.94 2.06-2.06.94zm10 10l.94 2.06.94-2.06 2.06-.94-2.06-.94-.94-2.06-.94 2.06-2.06.94z\"/><path d=\"M17.41 7.96l-1.37-1.37c-.4-.4-.92-.59-1.43-.59-.52 0-1.04.2-1.43.59L10.3 9.45l-7.72 7.72c-.78.78-.78 2.05 0 2.83L4 21.41c.39.39.9.59 1.41.59.51 0 1.02-.2 1.41-.59l7.78-7.78 2.81-2.81c.8-.78.8-2.07 0-2.86zM5.41 20L4 18.59l7.72-7.72 1.47 1.35L5.41 20z\"/>\n",
              "  </svg>\n",
              "      </button>\n",
              "      \n",
              "  <style>\n",
              "    .colab-df-container {\n",
              "      display:flex;\n",
              "      flex-wrap:wrap;\n",
              "      gap: 12px;\n",
              "    }\n",
              "\n",
              "    .colab-df-convert {\n",
              "      background-color: #E8F0FE;\n",
              "      border: none;\n",
              "      border-radius: 50%;\n",
              "      cursor: pointer;\n",
              "      display: none;\n",
              "      fill: #1967D2;\n",
              "      height: 32px;\n",
              "      padding: 0 0 0 0;\n",
              "      width: 32px;\n",
              "    }\n",
              "\n",
              "    .colab-df-convert:hover {\n",
              "      background-color: #E2EBFA;\n",
              "      box-shadow: 0px 1px 2px rgba(60, 64, 67, 0.3), 0px 1px 3px 1px rgba(60, 64, 67, 0.15);\n",
              "      fill: #174EA6;\n",
              "    }\n",
              "\n",
              "    [theme=dark] .colab-df-convert {\n",
              "      background-color: #3B4455;\n",
              "      fill: #D2E3FC;\n",
              "    }\n",
              "\n",
              "    [theme=dark] .colab-df-convert:hover {\n",
              "      background-color: #434B5C;\n",
              "      box-shadow: 0px 1px 3px 1px rgba(0, 0, 0, 0.15);\n",
              "      filter: drop-shadow(0px 1px 2px rgba(0, 0, 0, 0.3));\n",
              "      fill: #FFFFFF;\n",
              "    }\n",
              "  </style>\n",
              "\n",
              "      <script>\n",
              "        const buttonEl =\n",
              "          document.querySelector('#df-2d92e97c-bc93-4526-9b01-49a711a9ed23 button.colab-df-convert');\n",
              "        buttonEl.style.display =\n",
              "          google.colab.kernel.accessAllowed ? 'block' : 'none';\n",
              "\n",
              "        async function convertToInteractive(key) {\n",
              "          const element = document.querySelector('#df-2d92e97c-bc93-4526-9b01-49a711a9ed23');\n",
              "          const dataTable =\n",
              "            await google.colab.kernel.invokeFunction('convertToInteractive',\n",
              "                                                     [key], {});\n",
              "          if (!dataTable) return;\n",
              "\n",
              "          const docLinkHtml = 'Like what you see? Visit the ' +\n",
              "            '<a target=\"_blank\" href=https://colab.research.google.com/notebooks/data_table.ipynb>data table notebook</a>'\n",
              "            + ' to learn more about interactive tables.';\n",
              "          element.innerHTML = '';\n",
              "          dataTable['output_type'] = 'display_data';\n",
              "          await google.colab.output.renderOutput(dataTable, element);\n",
              "          const docLink = document.createElement('div');\n",
              "          docLink.innerHTML = docLinkHtml;\n",
              "          element.appendChild(docLink);\n",
              "        }\n",
              "      </script>\n",
              "    </div>\n",
              "  </div>\n",
              "  "
            ],
            "text/plain": [
              "   Unnamed: 0  airbnb_listing_id  ... is_superhost number_of_reviews\n",
              "0           0           31389869  ...        False              15.0\n",
              "1           1           40010667  ...        False               0.0\n",
              "2           2           38905997  ...         True              13.0\n",
              "\n",
              "[3 rows x 9 columns]"
            ]
          },
          "metadata": {},
          "execution_count": 141
        }
      ]
    },
    {
      "cell_type": "code",
      "source": [
        "df_priceav.head(3)"
      ],
      "metadata": {
        "colab": {
          "base_uri": "https://localhost:8080/",
          "height": 143
        },
        "id": "_ARImOCAx87C",
        "outputId": "d825b30a-9961-4dc1-8d3f-c31e5d91e396"
      },
      "execution_count": 142,
      "outputs": [
        {
          "output_type": "execute_result",
          "data": {
            "text/html": [
              "\n",
              "  <div id=\"df-bf1ac255-4709-4c44-84e9-08a7ca9fca8c\">\n",
              "    <div class=\"colab-df-container\">\n",
              "      <div>\n",
              "<style scoped>\n",
              "    .dataframe tbody tr th:only-of-type {\n",
              "        vertical-align: middle;\n",
              "    }\n",
              "\n",
              "    .dataframe tbody tr th {\n",
              "        vertical-align: top;\n",
              "    }\n",
              "\n",
              "    .dataframe thead th {\n",
              "        text-align: right;\n",
              "    }\n",
              "</style>\n",
              "<table border=\"1\" class=\"dataframe\">\n",
              "  <thead>\n",
              "    <tr style=\"text-align: right;\">\n",
              "      <th></th>\n",
              "      <th>Unnamed: 0</th>\n",
              "      <th>Unnamed: 0.1</th>\n",
              "      <th>airbnb_listing_id</th>\n",
              "      <th>booked_on</th>\n",
              "      <th>date</th>\n",
              "      <th>price_string</th>\n",
              "      <th>occupied</th>\n",
              "    </tr>\n",
              "  </thead>\n",
              "  <tbody>\n",
              "    <tr>\n",
              "      <th>0</th>\n",
              "      <td>0</td>\n",
              "      <td>2148</td>\n",
              "      <td>40201349</td>\n",
              "      <td>blank</td>\n",
              "      <td>2020-11-15</td>\n",
              "      <td>250.0</td>\n",
              "      <td>0</td>\n",
              "    </tr>\n",
              "    <tr>\n",
              "      <th>1</th>\n",
              "      <td>1</td>\n",
              "      <td>2159</td>\n",
              "      <td>40201349</td>\n",
              "      <td>blank</td>\n",
              "      <td>2020-11-26</td>\n",
              "      <td>250.0</td>\n",
              "      <td>0</td>\n",
              "    </tr>\n",
              "    <tr>\n",
              "      <th>2</th>\n",
              "      <td>2</td>\n",
              "      <td>2160</td>\n",
              "      <td>40201349</td>\n",
              "      <td>blank</td>\n",
              "      <td>2020-11-27</td>\n",
              "      <td>250.0</td>\n",
              "      <td>0</td>\n",
              "    </tr>\n",
              "  </tbody>\n",
              "</table>\n",
              "</div>\n",
              "      <button class=\"colab-df-convert\" onclick=\"convertToInteractive('df-bf1ac255-4709-4c44-84e9-08a7ca9fca8c')\"\n",
              "              title=\"Convert this dataframe to an interactive table.\"\n",
              "              style=\"display:none;\">\n",
              "        \n",
              "  <svg xmlns=\"http://www.w3.org/2000/svg\" height=\"24px\"viewBox=\"0 0 24 24\"\n",
              "       width=\"24px\">\n",
              "    <path d=\"M0 0h24v24H0V0z\" fill=\"none\"/>\n",
              "    <path d=\"M18.56 5.44l.94 2.06.94-2.06 2.06-.94-2.06-.94-.94-2.06-.94 2.06-2.06.94zm-11 1L8.5 8.5l.94-2.06 2.06-.94-2.06-.94L8.5 2.5l-.94 2.06-2.06.94zm10 10l.94 2.06.94-2.06 2.06-.94-2.06-.94-.94-2.06-.94 2.06-2.06.94z\"/><path d=\"M17.41 7.96l-1.37-1.37c-.4-.4-.92-.59-1.43-.59-.52 0-1.04.2-1.43.59L10.3 9.45l-7.72 7.72c-.78.78-.78 2.05 0 2.83L4 21.41c.39.39.9.59 1.41.59.51 0 1.02-.2 1.41-.59l7.78-7.78 2.81-2.81c.8-.78.8-2.07 0-2.86zM5.41 20L4 18.59l7.72-7.72 1.47 1.35L5.41 20z\"/>\n",
              "  </svg>\n",
              "      </button>\n",
              "      \n",
              "  <style>\n",
              "    .colab-df-container {\n",
              "      display:flex;\n",
              "      flex-wrap:wrap;\n",
              "      gap: 12px;\n",
              "    }\n",
              "\n",
              "    .colab-df-convert {\n",
              "      background-color: #E8F0FE;\n",
              "      border: none;\n",
              "      border-radius: 50%;\n",
              "      cursor: pointer;\n",
              "      display: none;\n",
              "      fill: #1967D2;\n",
              "      height: 32px;\n",
              "      padding: 0 0 0 0;\n",
              "      width: 32px;\n",
              "    }\n",
              "\n",
              "    .colab-df-convert:hover {\n",
              "      background-color: #E2EBFA;\n",
              "      box-shadow: 0px 1px 2px rgba(60, 64, 67, 0.3), 0px 1px 3px 1px rgba(60, 64, 67, 0.15);\n",
              "      fill: #174EA6;\n",
              "    }\n",
              "\n",
              "    [theme=dark] .colab-df-convert {\n",
              "      background-color: #3B4455;\n",
              "      fill: #D2E3FC;\n",
              "    }\n",
              "\n",
              "    [theme=dark] .colab-df-convert:hover {\n",
              "      background-color: #434B5C;\n",
              "      box-shadow: 0px 1px 3px 1px rgba(0, 0, 0, 0.15);\n",
              "      filter: drop-shadow(0px 1px 2px rgba(0, 0, 0, 0.3));\n",
              "      fill: #FFFFFF;\n",
              "    }\n",
              "  </style>\n",
              "\n",
              "      <script>\n",
              "        const buttonEl =\n",
              "          document.querySelector('#df-bf1ac255-4709-4c44-84e9-08a7ca9fca8c button.colab-df-convert');\n",
              "        buttonEl.style.display =\n",
              "          google.colab.kernel.accessAllowed ? 'block' : 'none';\n",
              "\n",
              "        async function convertToInteractive(key) {\n",
              "          const element = document.querySelector('#df-bf1ac255-4709-4c44-84e9-08a7ca9fca8c');\n",
              "          const dataTable =\n",
              "            await google.colab.kernel.invokeFunction('convertToInteractive',\n",
              "                                                     [key], {});\n",
              "          if (!dataTable) return;\n",
              "\n",
              "          const docLinkHtml = 'Like what you see? Visit the ' +\n",
              "            '<a target=\"_blank\" href=https://colab.research.google.com/notebooks/data_table.ipynb>data table notebook</a>'\n",
              "            + ' to learn more about interactive tables.';\n",
              "          element.innerHTML = '';\n",
              "          dataTable['output_type'] = 'display_data';\n",
              "          await google.colab.output.renderOutput(dataTable, element);\n",
              "          const docLink = document.createElement('div');\n",
              "          docLink.innerHTML = docLinkHtml;\n",
              "          element.appendChild(docLink);\n",
              "        }\n",
              "      </script>\n",
              "    </div>\n",
              "  </div>\n",
              "  "
            ],
            "text/plain": [
              "   Unnamed: 0  Unnamed: 0.1  ...  price_string occupied\n",
              "0           0          2148  ...         250.0        0\n",
              "1           1          2159  ...         250.0        0\n",
              "2           2          2160  ...         250.0        0\n",
              "\n",
              "[3 rows x 7 columns]"
            ]
          },
          "metadata": {},
          "execution_count": 142
        }
      ]
    },
    {
      "cell_type": "code",
      "source": [
        "df_details.isnull().sum()"
      ],
      "metadata": {
        "colab": {
          "base_uri": "https://localhost:8080/"
        },
        "id": "x8mw0rGCxoRi",
        "outputId": "237fb06f-35dc-44b9-ef84-afaf3f124fc2"
      },
      "execution_count": 143,
      "outputs": [
        {
          "output_type": "execute_result",
          "data": {
            "text/plain": [
              "Unnamed: 0                0\n",
              "airbnb_listing_id         0\n",
              "suburb                    0\n",
              "ad_name                   0\n",
              "number_of_bedrooms      183\n",
              "number_of_bathrooms       1\n",
              "star_rating            2121\n",
              "is_superhost              0\n",
              "number_of_reviews         7\n",
              "dtype: int64"
            ]
          },
          "metadata": {},
          "execution_count": 143
        }
      ]
    },
    {
      "cell_type": "code",
      "source": [
        "df_priceav.isnull().sum()"
      ],
      "metadata": {
        "colab": {
          "base_uri": "https://localhost:8080/"
        },
        "id": "4Wohsyspxyzq",
        "outputId": "4770fe7e-2093-4731-ee57-af3bb1e62fa4"
      },
      "execution_count": 144,
      "outputs": [
        {
          "output_type": "execute_result",
          "data": {
            "text/plain": [
              "Unnamed: 0           0\n",
              "Unnamed: 0.1         0\n",
              "airbnb_listing_id    0\n",
              "booked_on            0\n",
              "date                 0\n",
              "price_string         0\n",
              "occupied             0\n",
              "dtype: int64"
            ]
          },
          "metadata": {},
          "execution_count": 144
        }
      ]
    },
    {
      "cell_type": "markdown",
      "source": [
        "# Analisando Outliers"
      ],
      "metadata": {
        "id": "7G1sJTCtQMqN"
      }
    },
    {
      "cell_type": "code",
      "source": [
        "sns.boxplot(x=df_details['number_of_bathrooms']) # Possuí valores discrepantes, mas compreensível."
      ],
      "metadata": {
        "colab": {
          "base_uri": "https://localhost:8080/",
          "height": 297
        },
        "id": "ncies2DwQQL8",
        "outputId": "252a9ccc-db1f-415e-d807-fbbc6e10f360"
      },
      "execution_count": 145,
      "outputs": [
        {
          "output_type": "execute_result",
          "data": {
            "text/plain": [
              "<matplotlib.axes._subplots.AxesSubplot at 0x7f6a7ddec790>"
            ]
          },
          "metadata": {},
          "execution_count": 145
        },
        {
          "output_type": "display_data",
          "data": {
            "image/png": "[encoded data removed]",
            "text/plain": [
              "<Figure size 432x288 with 1 Axes>"
            ]
          },
          "metadata": {
            "needs_background": "light"
          }
        }
      ]
    },
    {
      "cell_type": "code",
      "source": [
        "sns.boxplot(x=df_details['number_of_bedrooms']) # Possuí valores discrepantes, mas compreensível."
      ],
      "metadata": {
        "colab": {
          "base_uri": "https://localhost:8080/",
          "height": 297
        },
        "id": "40q-3wGPQa0I",
        "outputId": "54326a99-fd8d-4bb4-fd7e-7b195d57058d"
      },
      "execution_count": 146,
      "outputs": [
        {
          "output_type": "execute_result",
          "data": {
            "text/plain": [
              "<matplotlib.axes._subplots.AxesSubplot at 0x7f6a7ddfcd50>"
            ]
          },
          "metadata": {},
          "execution_count": 146
        },
        {
          "output_type": "display_data",
          "data": {
            "image/png": "[encoded data removed]",
            "text/plain": [
              "<Figure size 432x288 with 1 Axes>"
            ]
          },
          "metadata": {
            "needs_background": "light"
          }
        }
      ]
    },
    {
      "cell_type": "code",
      "source": [
        "sns.boxplot(x=df_details['star_rating']) # Possuí valores discrepantes, mas compreensível."
      ],
      "metadata": {
        "colab": {
          "base_uri": "https://localhost:8080/",
          "height": 297
        },
        "id": "bnIZgHqvQgyo",
        "outputId": "b7394024-764b-4d68-a36d-43f51d058ccf"
      },
      "execution_count": 147,
      "outputs": [
        {
          "output_type": "execute_result",
          "data": {
            "text/plain": [
              "<matplotlib.axes._subplots.AxesSubplot at 0x7f6a7ec052d0>"
            ]
          },
          "metadata": {},
          "execution_count": 147
        },
        {
          "output_type": "display_data",
          "data": {
            "image/png": "[encoded data removed]",
            "text/plain": [
              "<Figure size 432x288 with 1 Axes>"
            ]
          },
          "metadata": {
            "needs_background": "light"
          }
        }
      ]
    },
    {
      "cell_type": "code",
      "source": [
        "sns.boxplot(x=df_details['number_of_reviews']) # Possuí valores discrepantes, mas compreensível."
      ],
      "metadata": {
        "colab": {
          "base_uri": "https://localhost:8080/",
          "height": 297
        },
        "id": "vUdxbapPQzBq",
        "outputId": "2d82061f-2901-4b07-cc27-bb7359714a20"
      },
      "execution_count": 148,
      "outputs": [
        {
          "output_type": "execute_result",
          "data": {
            "text/plain": [
              "<matplotlib.axes._subplots.AxesSubplot at 0x7f6a7dde0590>"
            ]
          },
          "metadata": {},
          "execution_count": 148
        },
        {
          "output_type": "display_data",
          "data": {
            "image/png": "[encoded data removed]",
            "text/plain": [
              "<Figure size 432x288 with 1 Axes>"
            ]
          },
          "metadata": {
            "needs_background": "light"
          }
        }
      ]
    },
    {
      "cell_type": "code",
      "source": [
        "ano = []\n",
        "for i in df_priceav[df_priceav.booked_on != 'blank'].booked_on.values:\n",
        "  ano.append(int(i.split(\"-\")[0]))\n",
        "print(Counter(ano)) \n",
        "# Existe três linhas referentes a 2000."
      ],
      "metadata": {
        "colab": {
          "base_uri": "https://localhost:8080/"
        },
        "id": "EojGYMBZROpa",
        "outputId": "b2d35059-7eaa-4f9e-f53d-750253594fd0"
      },
      "execution_count": 149,
      "outputs": [
        {
          "output_type": "stream",
          "name": "stdout",
          "text": [
            "Counter({2020: 89169, 2021: 75779, 2000: 3})\n"
          ]
        }
      ]
    },
    {
      "cell_type": "code",
      "source": [
        "ano = []\n",
        "for i in df_priceav[df_priceav.booked_on != 'blank'].date.values:\n",
        "  ano.append(int(i.split(\"-\")[0]))\n",
        "print(Counter(ano)) \n",
        "# Não existe nenhuma linha referente ao ano 2000. Irei analisar as linhas que booked_on possui ano 2000"
      ],
      "metadata": {
        "colab": {
          "base_uri": "https://localhost:8080/"
        },
        "id": "VYFIqbHkT-n8",
        "outputId": "b892480d-3239-4c73-a802-1c2d80f78537"
      },
      "execution_count": 150,
      "outputs": [
        {
          "output_type": "stream",
          "name": "stdout",
          "text": [
            "Counter({2021: 101827, 2020: 63124})\n"
          ]
        }
      ]
    },
    {
      "cell_type": "markdown",
      "source": [
        "Todos as colunas, com exceção da Booked_on, apresentaram valores compreensíveis, não necessitando nenhum tratamento. Existe três linhas na coluna Booked_on referentes ao ano 2000, no qual não faz sentido. Para esses casos, eu irei considerar o valor de Booked_on igual ao valor de Date. Como irei utilizar esses valores apenas na questão 4, irei realizar o tratamento depois."
      ],
      "metadata": {
        "id": "CIRo4DiGtj4N"
      }
    },
    {
      "cell_type": "markdown",
      "source": [
        "# 1. Ordene os bairros em ordem crescente de número de listings"
      ],
      "metadata": {
        "id": "HlXQe326hqNJ"
      }
    },
    {
      "cell_type": "code",
      "source": [
        "# Primeiro irei criar um dataframe onde irei contar e ordenar o número de listings por bairro.\n",
        "df_order_by_listings = df_details.groupby(['suburb']).count().sort_values(by='airbnb_listing_id')\n",
        "# Após isso, irei armazenar:\n",
        "n_listings = df_order_by_listings.iloc[:,0].values # O número de listings de cada bairro.\n",
        "nome_bairro = df_order_by_listings.iloc[:,0].index.values # O nome de cada bairro"
      ],
      "metadata": {
        "id": "9poVbM_4zHjJ"
      },
      "execution_count": 151,
      "outputs": []
    },
    {
      "cell_type": "code",
      "source": [
        "for x,y in zip(nome_bairro, n_listings):\n",
        "  print(x + ' possui ' + str(y) + ' listings')"
      ],
      "metadata": {
        "colab": {
          "base_uri": "https://localhost:8080/"
        },
        "id": "BV7l6FUp6_-u",
        "outputId": "109293a3-9c0a-4ce6-cbb3-a77d3b0f9a91"
      },
      "execution_count": 152,
      "outputs": [
        {
          "output_type": "stream",
          "name": "stdout",
          "text": [
            "Centro possui 278 listings\n",
            "Lagoa da Conceição possui 309 listings\n",
            "Jurerê possui 539 listings\n",
            "Canasvieiras possui 1177 listings\n",
            "Ingleses possui 2388 listings\n"
          ]
        }
      ]
    },
    {
      "cell_type": "code",
      "source": [
        "fig, ax = plt.subplots()\n",
        "ax.set(title='Quantidade de listings por bairro')\n",
        "ax.barh(nome_bairro[::-1], n_listings[::-1], height=0.5) # Usei [::-1] para visualizar em ordem crescente no gráfico\n",
        "for index, value in enumerate(n_listings[::-1]):\n",
        "  ax.text(value, index, str(value))\n",
        "ax.set_xbound(0, n_listings[-1]+300)"
      ],
      "metadata": {
        "colab": {
          "base_uri": "https://localhost:8080/",
          "height": 281
        },
        "id": "kiSnb0Bs3LMx",
        "outputId": "561b992c-a27c-4242-8433-c6fd9a34ae9c"
      },
      "execution_count": 153,
      "outputs": [
        {
          "output_type": "display_data",
          "data": {
            "image/png": "[encoded data removed]",
            "text/plain": [
              "<Figure size 432x288 with 1 Axes>"
            ]
          },
          "metadata": {
            "needs_background": "light"
          }
        }
      ]
    },
    {
      "cell_type": "markdown",
      "source": [
        "# 2. Ordene os bairros em ordem crescente de faturamento médio dos listings"
      ],
      "metadata": {
        "id": "I51yh1i-hvEH"
      }
    },
    {
      "cell_type": "code",
      "source": [
        "# Só faz sentido analisar a média de faturamente dos dias que foram alugados.\n",
        "# Para isso, vou criar um DataFrame contendo só esses dias:\n",
        "df_booked_on = df_priceav[df_priceav.booked_on != 'blank']\n",
        "\n",
        "# Armazenando os valores referentes a ID e faturamente médio por estabelecimento\n",
        "id_listing = df_booked_on.groupby(['airbnb_listing_id']).mean().loc[:,'price_string'].index.values\n",
        "faturamento_medio = df_booked_on.groupby(['airbnb_listing_id']).mean().loc[:,'price_string'].values\n",
        "\n",
        "# Substituindo os valores de ID por bairro\n",
        "suburb = []\n",
        "for i in id_listing:\n",
        "  suburb.append(df_details.loc[df_details['airbnb_listing_id'] == i].loc[:,'suburb'].values[0])\n",
        "\n",
        "# Criando um Dataframe com Bairro e armazendo o faturamento médio por estabelecimento\n",
        "df_new = pd.DataFrame({'bairro':suburb, 'faturamento_medio':faturamento_medio})\n",
        "\n",
        "# Calculando o faturamento médio por bairro e arredondo para 2 digitos decimais\n",
        "df_aux = df_new.groupby(by=df_new['bairro']).mean().sort_values(by='faturamento_medio', ascending=True)\n",
        "bairro = df_aux.index.values\n",
        "faturamento_medio_por_bairro = np.round(df_aux.values,2).ravel()"
      ],
      "metadata": {
        "id": "MvBNSKgc3M8l"
      },
      "execution_count": 154,
      "outputs": []
    },
    {
      "cell_type": "code",
      "source": [
        "for x,y in zip(bairro, faturamento_medio_por_bairro):\n",
        "  print(x + ' possui faturamente médio de R$ ' + str(y))"
      ],
      "metadata": {
        "colab": {
          "base_uri": "https://localhost:8080/"
        },
        "id": "CIFhpuCSJNJ-",
        "outputId": "6c568865-c349-4e5b-951a-432fdb3ac552"
      },
      "execution_count": 155,
      "outputs": [
        {
          "output_type": "stream",
          "name": "stdout",
          "text": [
            "Centro possui faturamente médio de R$ 244.14\n",
            "Lagoa da Conceição possui faturamente médio de R$ 264.14\n",
            "Canasvieiras possui faturamente médio de R$ 306.96\n",
            "Ingleses possui faturamente médio de R$ 373.06\n",
            "Jurerê possui faturamente médio de R$ 436.48\n"
          ]
        }
      ]
    },
    {
      "cell_type": "code",
      "source": [
        "fig, ax = plt.subplots()\n",
        "ax.set(title='Faturamente médio por bairro')\n",
        "ax.barh(bairro[::-1], faturamento_medio_por_bairro[::-1], height=0.5) # Usei [::-1] para visualizar em ordem crescente no gráfico\n",
        "for index, value in enumerate(faturamento_medio_por_bairro[::-1]):\n",
        "  ax.text(value, index, 'R$ ' + str(value))\n",
        "ax.set_xbound(0, faturamento_medio_por_bairro[-1]+100)"
      ],
      "metadata": {
        "colab": {
          "base_uri": "https://localhost:8080/",
          "height": 281
        },
        "id": "QNcun8DHHJFZ",
        "outputId": "63c38fa0-1de0-4b5d-fd78-88e7151ea0f5"
      },
      "execution_count": 156,
      "outputs": [
        {
          "output_type": "display_data",
          "data": {
            "image/png": "[encoded data removed]",
            "text/plain": [
              "<Figure size 432x288 with 1 Axes>"
            ]
          },
          "metadata": {
            "needs_background": "light"
          }
        }
      ]
    },
    {
      "cell_type": "markdown",
      "source": [
        "# 3. Existem correlações entre as características de um anúncio e seu faturamento? \n",
        "a. Quais? Explique"
      ],
      "metadata": {
        "id": "afuDaAAyh-eX"
      }
    },
    {
      "cell_type": "code",
      "source": [
        "# Armazenando os valores referentes a ID e faturamente total por estabelecimento\n",
        "id = df_booked_on.groupby(['airbnb_listing_id']).sum().loc[:,'price_string'].index.values\n",
        "faturamento_total = df_booked_on.groupby(['airbnb_listing_id']).sum().loc[:,'price_string'].values\n",
        "\n",
        "# Criando um Dataframe com ID e armazendo o faturamento total por estabelecimento\n",
        "df_new = pd.DataFrame({'airbnb_listing_id':id, 'faturamento_total':faturamento_total})\n",
        "\n",
        "# Realizando um merge e armazendo num Dataframe\n",
        "df_merge = pd.merge(df_details,df_new,how='inner', on=['airbnb_listing_id'])\n",
        "\n",
        "# Excluindo colunas desnecessárias para análise\n",
        "df_merge = df_merge.drop(columns=['Unnamed: 0', 'airbnb_listing_id', ])\n",
        "\n",
        "# Transformando bairro para OneHotEncoder\n",
        "suburb_encoder = OneHotEncoder()\n",
        "suburb_reshape = np.array(df_merge['suburb']).reshape(-1, 1)\n",
        "suburb_values = suburb_encoder.fit_transform(suburb_reshape)\n",
        "df_merge.drop('suburb', axis=1, inplace=True)"
      ],
      "metadata": {
        "id": "Bpma0U0tJwqp"
      },
      "execution_count": 157,
      "outputs": []
    },
    {
      "cell_type": "code",
      "source": [
        "# Analisando o inverso do OneHotEncoder para criar as novas colunas para bairro\n",
        "print(suburb_values.toarray()[:10])\n",
        "print(suburb_encoder.inverse_transform(suburb_values)[:10])\n",
        "# 1 - Canasvieiras / 2 - Centro / 3 - Ingleses / 4 - Jurerê / 5 - Lagoa da Conceição\n",
        "df_suburb = pd.DataFrame(suburb_values.toarray(), columns=['is_canasvieiras', 'is_centro', 'is_ingleses', 'is_jurere', 'is_lagoa_da_conceicao'])\n",
        "df_merge = pd.concat([df_merge, df_suburb], axis=1)"
      ],
      "metadata": {
        "colab": {
          "base_uri": "https://localhost:8080/"
        },
        "id": "_YF61g0oLZEw",
        "outputId": "306f1581-9a8c-4b2f-e608-ced4b0808360"
      },
      "execution_count": 158,
      "outputs": [
        {
          "output_type": "stream",
          "name": "stdout",
          "text": [
            "[[0. 0. 0. 1. 0.]\n",
            " [1. 0. 0. 0. 0.]\n",
            " [0. 0. 1. 0. 0.]\n",
            " [1. 0. 0. 0. 0.]\n",
            " [0. 0. 1. 0. 0.]\n",
            " [0. 0. 1. 0. 0.]\n",
            " [1. 0. 0. 0. 0.]\n",
            " [0. 0. 0. 0. 1.]\n",
            " [0. 0. 1. 0. 0.]\n",
            " [0. 0. 1. 0. 0.]]\n",
            "[['Jurerê']\n",
            " ['Canasvieiras']\n",
            " ['Ingleses']\n",
            " ['Canasvieiras']\n",
            " ['Ingleses']\n",
            " ['Ingleses']\n",
            " ['Canasvieiras']\n",
            " ['Lagoa da Conceição']\n",
            " ['Ingleses']\n",
            " ['Ingleses']]\n"
          ]
        }
      ]
    },
    {
      "cell_type": "code",
      "source": [
        "# Irei \"contar\" a aparição das palavras na coluna refente ao nome do anuncio para tirar algumas informações.\n",
        "info = []\n",
        "for i in df_merge['ad_name']: \n",
        "  for j in i.split(\" \"):\n",
        "    info.append(re.sub('[^A-Za-z0-9]+', '', j.lower()))\n",
        "# Descomente a linha abaixo para verificar a quantidade de aparição de cada elemento \n",
        "#print(Counter(info))\n",
        "# Podemos ver que conseguimos tirar algumas Features interessantes pelo nome do anuncio:\n",
        "# menciona_praia: praia\n",
        "# menciona_apartamento: apartamento, apto, ap\n",
        "# menciona_mar: mar\n",
        "# menciona_vista: vista\n",
        "# menciona_cobertura: cobertura\n",
        "# menciona_piscina: piscina\n",
        "# menciona_lagoa: lagoa\n",
        "# menciona_completo: completo"
      ],
      "metadata": {
        "id": "GhDBl1JDNMQO"
      },
      "execution_count": 159,
      "outputs": []
    },
    {
      "cell_type": "code",
      "source": [
        "# Irei adicionar essas features ao DataFrame, sendo 1 - menciona e 0 - não menciona\n",
        "menciona = np.zeros((len(df_merge['ad_name']), 8))\n",
        "k = 0\n",
        "for i in df_merge['ad_name']: \n",
        "  for j in i.split(\" \"):\n",
        "    texto = re.sub('[^A-Za-z0-9]+', '', j.lower())\n",
        "    if (texto == 'praia'):\n",
        "      menciona[k,0] = 1\n",
        "    if (texto == 'apartamento' or texto == 'apto' or texto == 'ap'):\n",
        "      menciona[k,1] = 1\n",
        "    if (texto == 'mar'):\n",
        "      menciona[k,2] = 1\n",
        "    if (texto == 'vista'):\n",
        "      menciona[k,3] = 1\n",
        "    if (texto == 'cobertura'):\n",
        "      menciona[k,4] = 1\n",
        "    if (texto == 'piscina'):\n",
        "      menciona[k,5] = 1\n",
        "    if (texto == 'lagoa'):\n",
        "      menciona[k,6] = 1\n",
        "    if (texto == 'completo'):\n",
        "      menciona[k,7] = 1\n",
        "  k += 1\n",
        "df_merge.drop('ad_name', axis=1, inplace=True)\n",
        "df_menciona = pd.DataFrame(menciona, columns=['menciona_praia', 'menciona_apartamento', 'menciona_mar', 'menciona_vista', 'menciona_cobertura', 'menciona_piscina', 'menciona_lagoa', 'menciona_completo'])\n",
        "df_merge = pd.concat([df_merge, df_menciona], axis=1)"
      ],
      "metadata": {
        "id": "SKU9vES7RRA6"
      },
      "execution_count": 160,
      "outputs": []
    },
    {
      "cell_type": "code",
      "source": [
        "# Pela correlação de Pearson, podemos ver que há um aumento linear do faturamento total conforme aumenta, principalmente:\n",
        "# Número de banheiros, número de quartos, se menciona cobertura, se menciona vista e se a localização é jurere.\n",
        "plt.figure(figsize=(12,10))\n",
        "cor = df_merge.corr(method='pearson')\n",
        "sort = cor.loc['faturamento_total'].values.argsort()\n",
        "plt.barh(cor.loc['faturamento_total'].index.values[sort][:-1], cor.loc['faturamento_total'].values[sort][:-1])\n",
        "plt.show()"
      ],
      "metadata": {
        "colab": {
          "base_uri": "https://localhost:8080/",
          "height": 592
        },
        "id": "-uGIbMx2hWaB",
        "outputId": "e3806a37-9f4f-42b0-8264-a4e1d352662f"
      },
      "execution_count": 161,
      "outputs": [
        {
          "output_type": "display_data",
          "data": {
            "image/png": "[encoded data removed]",
            "text/plain": [
              "<Figure size 864x720 with 1 Axes>"
            ]
          },
          "metadata": {
            "needs_background": "light"
          }
        }
      ]
    },
    {
      "cell_type": "code",
      "source": [
        "# Pela correlação de Spearman, não muita modificação na correlação, mas podemos ver um aumento na correlação com o número de reviews.\n",
        "# Isso indica que o faturamento aumenta não-linearmente com o número de reviews.\n",
        "plt.figure(figsize=(12,10))\n",
        "cor = df_merge.corr(method='spearman')\n",
        "sort = cor.loc['faturamento_total'].values.argsort()\n",
        "plt.barh(cor.loc['faturamento_total'].index.values[sort][:-1], cor.loc['faturamento_total'].values[sort][:-1])\n",
        "plt.show()"
      ],
      "metadata": {
        "colab": {
          "base_uri": "https://localhost:8080/",
          "height": 592
        },
        "id": "-i3Kq9HxgAOE",
        "outputId": "66a050ca-798d-4c05-c151-b5f0ae1e52f6"
      },
      "execution_count": 162,
      "outputs": [
        {
          "output_type": "display_data",
          "data": {
            "image/png": "[encoded data removed]",
            "text/plain": [
              "<Figure size 864x720 with 1 Axes>"
            ]
          },
          "metadata": {
            "needs_background": "light"
          }
        }
      ]
    },
    {
      "cell_type": "code",
      "source": [
        "# Irei realizar a técnica de RandomForest para realizar a técnica de Feature Importance\n",
        "\n",
        "df_dropna = df_merge.dropna()\n",
        "x = df_dropna.drop('faturamento_total', 1)\n",
        "y = df_dropna.loc[:,'faturamento_total'].values\n",
        "\n",
        "forest = RandomForestClassifier(n_estimators=42, random_state=0)\n",
        "forest.fit(x, y)\n",
        "print(\"Acurácia de: \",forest.score(x, y))"
      ],
      "metadata": {
        "colab": {
          "base_uri": "https://localhost:8080/"
        },
        "id": "3Q6lIDDoG3SB",
        "outputId": "1401d9ca-698c-4d45-df22-5528b09c99b2"
      },
      "execution_count": 163,
      "outputs": [
        {
          "output_type": "stream",
          "name": "stdout",
          "text": [
            "Acurácia de:  0.8640776699029126\n"
          ]
        }
      ]
    },
    {
      "cell_type": "code",
      "source": [
        "sort = forest.feature_importances_.argsort()\n",
        "plt.figure(figsize=(12,10))\n",
        "plt.xlabel(\"Feature Importance\")\n",
        "plt.barh(x.columns[sort], forest.feature_importances_[sort])\n",
        "# Podemos notar que o número de reviews é de extrema importância para o faturamento total. Ainda podemos notar que, diferente das correlações anteriores...\n",
        "# essa técnica indica que a feature \"star_rating\" é importante no faturamento total."
      ],
      "metadata": {
        "colab": {
          "base_uri": "https://localhost:8080/",
          "height": 623
        },
        "id": "L3msUFHXZge8",
        "outputId": "a0a6c170-d727-44df-92d9-a87a92df9e53"
      },
      "execution_count": 164,
      "outputs": [
        {
          "output_type": "execute_result",
          "data": {
            "text/plain": [
              "<BarContainer object of 18 artists>"
            ]
          },
          "metadata": {},
          "execution_count": 164
        },
        {
          "output_type": "display_data",
          "data": {
            "image/png": "[encoded data removed]",
            "text/plain": [
              "<Figure size 864x720 with 1 Axes>"
            ]
          },
          "metadata": {
            "needs_background": "light"
          }
        }
      ]
    },
    {
      "cell_type": "markdown",
      "source": [
        "Assim, podemos afirmar que as características mais importantes para um maior faturamente está associado com a \"popularidade\" do anuncio (número de reviews e star_rating), e com a quantidade de quartos/banheiros. Além disso, mencionar cobertura/vista no anuncio ou estar localizado em jurerê aumentam o faturamento. "
      ],
      "metadata": {
        "id": "D-x7yaH1njoK"
      }
    },
    {
      "cell_type": "markdown",
      "source": [
        "# 4. Qual a antecedência média das reservas?\n",
        "a. Esse número é maior ou menor para finais de semana?\n"
      ],
      "metadata": {
        "id": "Fs6-JLifohTD"
      }
    },
    {
      "cell_type": "code",
      "source": [
        "data_ocupação = df_booked_on.date.values \n",
        "data_alugada = df_booked_on.booked_on.values\n",
        "diferenca_dias = []\n",
        "diferenca_dias_final_de_semana = []\n",
        "for x,y in zip(data_ocupação, data_alugada):\n",
        "  if (datetime.fromisoformat(y).year != 2000): # Excluindo os três outliers\n",
        "    dias = (datetime.fromisoformat(x) - datetime.fromisoformat(y)).days\n",
        "  else:\n",
        "    dias = 0  \n",
        "  diferenca_dias.append(dias)\n",
        "  if (datetime.fromisoformat(x).weekday() > 4): # 4 = Sexta-feira\n",
        "    diferenca_dias_final_de_semana.append(dias)"
      ],
      "metadata": {
        "id": "xlhMOl_RojZi"
      },
      "execution_count": 170,
      "outputs": []
    },
    {
      "cell_type": "code",
      "source": [
        "print(\"Média todos os dias: \", np.mean(diferenca_dias))\n",
        "print(\"Desvio padrão todos os dias: \", np.std(diferenca_dias))\n",
        "print(\"Média final de semana: \", np.mean(diferenca_dias_final_de_semana))\n",
        "print(\"Desvio padrão final de semana: \", np.std(diferenca_dias_final_de_semana))"
      ],
      "metadata": {
        "colab": {
          "base_uri": "https://localhost:8080/"
        },
        "id": "EvFXG5u8MVY8",
        "outputId": "fdbe1757-3ce9-41eb-b6a1-af0aa0cc833e"
      },
      "execution_count": 171,
      "outputs": [
        {
          "output_type": "stream",
          "name": "stdout",
          "text": [
            "Média todos os dias:  32.21282077707925\n",
            "Desvio padrão todos os dias:  63.8261363266891\n",
            "Média final de semana:  32.06244456986213\n",
            "Desvio padrão final de semana:  62.934483591428865\n"
          ]
        }
      ]
    },
    {
      "cell_type": "code",
      "source": [
        "plt.hist(diferenca_dias)\n",
        "plt.title('Antecedência das reservas')"
      ],
      "metadata": {
        "colab": {
          "base_uri": "https://localhost:8080/",
          "height": 298
        },
        "id": "7qCFI4Xywbbw",
        "outputId": "5bf41c4f-8ac9-48a2-8624-4e3615350923"
      },
      "execution_count": 172,
      "outputs": [
        {
          "output_type": "execute_result",
          "data": {
            "text/plain": [
              "Text(0.5, 1.0, 'Antecedência das reservas')"
            ]
          },
          "metadata": {},
          "execution_count": 172
        },
        {
          "output_type": "display_data",
          "data": {
            "image/png": "[encoded data removed]",
            "text/plain": [
              "<Figure size 432x288 with 1 Axes>"
            ]
          },
          "metadata": {
            "needs_background": "light"
          }
        }
      ]
    },
    {
      "cell_type": "code",
      "source": [
        "plt.hist(diferenca_dias_final_de_semana)\n",
        "plt.title('Antecedência das reservas do final de semana')"
      ],
      "metadata": {
        "colab": {
          "base_uri": "https://localhost:8080/",
          "height": 298
        },
        "id": "cShh5GSHMKeF",
        "outputId": "883484bc-1571-47ca-e54b-d9d3b41b54b5"
      },
      "execution_count": 173,
      "outputs": [
        {
          "output_type": "execute_result",
          "data": {
            "text/plain": [
              "Text(0.5, 1.0, 'Antecedência das reservas do final de semana')"
            ]
          },
          "metadata": {},
          "execution_count": 173
        },
        {
          "output_type": "display_data",
          "data": {
            "image/png": "[encoded data removed]",
            "text/plain": [
              "<Figure size 432x288 with 1 Axes>"
            ]
          },
          "metadata": {
            "needs_background": "light"
          }
        }
      ]
    },
    {
      "cell_type": "markdown",
      "source": [
        "A média de antecência das reservas é aproximadamente 32 dias. No final de semana, essa média diminui um pouco, mas nada significativo."
      ],
      "metadata": {
        "id": "IH-k0-j9yQUI"
      }
    }
  ]
}